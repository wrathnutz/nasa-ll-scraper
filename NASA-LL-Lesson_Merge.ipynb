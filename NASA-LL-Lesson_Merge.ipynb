{
 "cells": [
  {
   "cell_type": "code",
   "execution_count": 118,
   "metadata": {},
   "outputs": [],
   "source": [
    "import pandas as pd"
   ]
  },
  {
   "cell_type": "code",
   "execution_count": 119,
   "metadata": {},
   "outputs": [],
   "source": [
    "processed_df = pd.read_csv(\"./Downloads/processed.csv\")\n",
    "processed_df.Paragraph = processed_df.Paragraph.astype(str)\n",
    "info_df = pd.read_csv(\"./Downloads/lesson_info.csv\", index_col =\"URL\")\n"
   ]
  },
  {
   "cell_type": "code",
   "execution_count": 120,
   "metadata": {},
   "outputs": [
    {
     "name": "stdout",
     "output_type": "stream",
     "text": [
      "2055\n",
      "10923\n"
     ]
    }
   ],
   "source": [
    "info_count = info_df.shape[0]\n",
    "processed_count = processed_df.shape[0]\n",
    "\n",
    "print(info_count)\n",
    "print(processed_count)"
   ]
  },
  {
   "cell_type": "code",
   "execution_count": 121,
   "metadata": {},
   "outputs": [
    {
     "name": "stdout",
     "output_type": "stream",
     "text": [
      "Error at  0\n"
     ]
    }
   ],
   "source": [
    "merged_list = []\n",
    "for i in range(processed_count):\n",
    "    try:\n",
    "        data = processed_df.iloc[i]\n",
    "        idata = info_df.loc[data[\"URL\"]]\n",
    "        merged_list.append([data[\"URL\"], data[\"url_unique\"], data[\"Paragraph\"], idata[\"Lesson Number\"], idata[\"Lesson Date\"], idata[\"Submitting Organization\"]])\n",
    "    except:\n",
    "        print(\"Error at \", i)\n"
   ]
  },
  {
   "cell_type": "code",
   "execution_count": 122,
   "metadata": {},
   "outputs": [
    {
     "data": {
      "text/html": [
       "<div>\n",
       "<style scoped>\n",
       "    .dataframe tbody tr th:only-of-type {\n",
       "        vertical-align: middle;\n",
       "    }\n",
       "\n",
       "    .dataframe tbody tr th {\n",
       "        vertical-align: top;\n",
       "    }\n",
       "\n",
       "    .dataframe thead th {\n",
       "        text-align: right;\n",
       "    }\n",
       "</style>\n",
       "<table border=\"1\" class=\"dataframe\">\n",
       "  <thead>\n",
       "    <tr style=\"text-align: right;\">\n",
       "      <th></th>\n",
       "      <th>URL</th>\n",
       "      <th>url_unique</th>\n",
       "      <th>Paragraph</th>\n",
       "      <th>Lesson_Number</th>\n",
       "      <th>Lesson_Date</th>\n",
       "      <th>Submitting_Organization</th>\n",
       "    </tr>\n",
       "  </thead>\n",
       "  <tbody>\n",
       "    <tr>\n",
       "      <th>0</th>\n",
       "      <td>https://llis.nasa.gov/lesson/1</td>\n",
       "      <td>2</td>\n",
       "      <td>prelaunch check shuttle orbiter ov-104 flight ...</td>\n",
       "      <td>1</td>\n",
       "      <td>1991-04-09</td>\n",
       "      <td>jsc</td>\n",
       "    </tr>\n",
       "    <tr>\n",
       "      <th>1</th>\n",
       "      <td>https://llis.nasa.gov/lesson/1</td>\n",
       "      <td>2</td>\n",
       "      <td>recurrence control prevent original manufactur...</td>\n",
       "      <td>1</td>\n",
       "      <td>1991-04-09</td>\n",
       "      <td>jsc</td>\n",
       "    </tr>\n",
       "    <tr>\n",
       "      <th>2</th>\n",
       "      <td>https://llis.nasa.gov/lesson/1</td>\n",
       "      <td>2</td>\n",
       "      <td>ensure process modification considered impleme...</td>\n",
       "      <td>1</td>\n",
       "      <td>1991-04-09</td>\n",
       "      <td>jsc</td>\n",
       "    </tr>\n",
       "    <tr>\n",
       "      <th>3</th>\n",
       "      <td>https://llis.nasa.gov/lesson/10</td>\n",
       "      <td>3</td>\n",
       "      <td>shuttle orbiter general purpose computer ( gpc...</td>\n",
       "      <td>10</td>\n",
       "      <td>1991-06-17</td>\n",
       "      <td>jsc</td>\n",
       "    </tr>\n",
       "    <tr>\n",
       "      <th>4</th>\n",
       "      <td>https://llis.nasa.gov/lesson/10</td>\n",
       "      <td>3</td>\n",
       "      <td>repairing failed component ( gpc iop soldered ...</td>\n",
       "      <td>10</td>\n",
       "      <td>1991-06-17</td>\n",
       "      <td>jsc</td>\n",
       "    </tr>\n",
       "    <tr>\n",
       "      <th>...</th>\n",
       "      <td>...</td>\n",
       "      <td>...</td>\n",
       "      <td>...</td>\n",
       "      <td>...</td>\n",
       "      <td>...</td>\n",
       "      <td>...</td>\n",
       "    </tr>\n",
       "    <tr>\n",
       "      <th>10917</th>\n",
       "      <td>https://llis.nasa.gov/lesson/998</td>\n",
       "      <td>1732</td>\n",
       "      <td>space shuttle program element contractor prese...</td>\n",
       "      <td>998</td>\n",
       "      <td>1997-02-01</td>\n",
       "      <td>hq</td>\n",
       "    </tr>\n",
       "    <tr>\n",
       "      <th>10918</th>\n",
       "      <td>https://llis.nasa.gov/lesson/999</td>\n",
       "      <td>1733</td>\n",
       "      <td>space shuttle safety operational upgrade</td>\n",
       "      <td>999</td>\n",
       "      <td>1997-02-01</td>\n",
       "      <td>hq</td>\n",
       "    </tr>\n",
       "    <tr>\n",
       "      <th>10919</th>\n",
       "      <td>https://llis.nasa.gov/lesson/999</td>\n",
       "      <td>1733</td>\n",
       "      <td>nasa plan operate space shuttle least 2012. re...</td>\n",
       "      <td>999</td>\n",
       "      <td>1997-02-01</td>\n",
       "      <td>hq</td>\n",
       "    </tr>\n",
       "    <tr>\n",
       "      <th>10920</th>\n",
       "      <td>https://llis.nasa.gov/lesson/999</td>\n",
       "      <td>1733</td>\n",
       "      <td>nasa complete space shuttle upgrade soon possi...</td>\n",
       "      <td>999</td>\n",
       "      <td>1997-02-01</td>\n",
       "      <td>hq</td>\n",
       "    </tr>\n",
       "    <tr>\n",
       "      <th>10921</th>\n",
       "      <td>https://llis.nasa.gov/lesson/999</td>\n",
       "      <td>1733</td>\n",
       "      <td>ssp upgrade strategy founded premise safety , ...</td>\n",
       "      <td>999</td>\n",
       "      <td>1997-02-01</td>\n",
       "      <td>hq</td>\n",
       "    </tr>\n",
       "  </tbody>\n",
       "</table>\n",
       "<p>10922 rows × 6 columns</p>\n",
       "</div>"
      ],
      "text/plain": [
       "                                    URL  url_unique  \\\n",
       "0        https://llis.nasa.gov/lesson/1           2   \n",
       "1        https://llis.nasa.gov/lesson/1           2   \n",
       "2        https://llis.nasa.gov/lesson/1           2   \n",
       "3       https://llis.nasa.gov/lesson/10           3   \n",
       "4       https://llis.nasa.gov/lesson/10           3   \n",
       "...                                 ...         ...   \n",
       "10917  https://llis.nasa.gov/lesson/998        1732   \n",
       "10918  https://llis.nasa.gov/lesson/999        1733   \n",
       "10919  https://llis.nasa.gov/lesson/999        1733   \n",
       "10920  https://llis.nasa.gov/lesson/999        1733   \n",
       "10921  https://llis.nasa.gov/lesson/999        1733   \n",
       "\n",
       "                                               Paragraph  Lesson_Number  \\\n",
       "0      prelaunch check shuttle orbiter ov-104 flight ...              1   \n",
       "1      recurrence control prevent original manufactur...              1   \n",
       "2      ensure process modification considered impleme...              1   \n",
       "3      shuttle orbiter general purpose computer ( gpc...             10   \n",
       "4      repairing failed component ( gpc iop soldered ...             10   \n",
       "...                                                  ...            ...   \n",
       "10917  space shuttle program element contractor prese...            998   \n",
       "10918           space shuttle safety operational upgrade            999   \n",
       "10919  nasa plan operate space shuttle least 2012. re...            999   \n",
       "10920  nasa complete space shuttle upgrade soon possi...            999   \n",
       "10921  ssp upgrade strategy founded premise safety , ...            999   \n",
       "\n",
       "      Lesson_Date Submitting_Organization  \n",
       "0      1991-04-09                     jsc  \n",
       "1      1991-04-09                     jsc  \n",
       "2      1991-04-09                     jsc  \n",
       "3      1991-06-17                     jsc  \n",
       "4      1991-06-17                     jsc  \n",
       "...           ...                     ...  \n",
       "10917  1997-02-01                      hq  \n",
       "10918  1997-02-01                      hq  \n",
       "10919  1997-02-01                      hq  \n",
       "10920  1997-02-01                      hq  \n",
       "10921  1997-02-01                      hq  \n",
       "\n",
       "[10922 rows x 6 columns]"
      ]
     },
     "execution_count": 122,
     "metadata": {},
     "output_type": "execute_result"
    }
   ],
   "source": [
    "merged_df = pd.DataFrame(merged_list, columns=['URL','url_unique','Paragraph','Lesson_Number','Lesson_Date','Submitting_Organization'])\n",
    "merged_df"
   ]
  },
  {
   "cell_type": "code",
   "execution_count": 123,
   "metadata": {},
   "outputs": [],
   "source": [
    "# Save the DataFrame to a CSV file\n",
    "merged_df.to_csv('./Downloads/processed_merged.csv', index=False)"
   ]
  }
 ],
 "metadata": {
  "kernelspec": {
   "display_name": "webvenv",
   "language": "python",
   "name": "python3"
  },
  "language_info": {
   "codemirror_mode": {
    "name": "ipython",
    "version": 3
   },
   "file_extension": ".py",
   "mimetype": "text/x-python",
   "name": "python",
   "nbconvert_exporter": "python",
   "pygments_lexer": "ipython3",
   "version": "3.11.9"
  }
 },
 "nbformat": 4,
 "nbformat_minor": 2
}
